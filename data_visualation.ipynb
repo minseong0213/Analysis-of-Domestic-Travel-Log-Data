{
 "cells": [
  {
   "cell_type": "code",
   "execution_count": 2,
   "metadata": {},
   "outputs": [],
   "source": [
    "import pandas as pd"
   ]
  },
  {
   "cell_type": "code",
   "execution_count": 8,
   "metadata": {},
   "outputs": [],
   "source": [
    "# 수도권,동부권,서부권,도서지역 결합데이터\n",
    "tn_activity_consume_his = pd.read_csv('combined_tn_activity_consume_his_활동소비내역.csv',encoding='utf-8',low_memory=False)\n",
    "tn_activity_his = pd.read_csv('combined_tn_activity_his_활동내역.csv',encoding='utf-8',low_memory=False)\n",
    "tn_adv_consume_his = pd.read_csv('combined_tn_adv_consume_his_사전소비내역.csv',encoding='utf-8',low_memory=False)\n",
    "# tn_companion_info = pd.read_csv('combined_tn_companion_info_동반자정보.csv',encoding='utf-8',low_memory=False)\n",
    "tn_lodge_consume_his = pd.read_csv('combined_tn_lodge_consume_his_숙박소비내역.csv',encoding='utf-8',low_memory=False)\n",
    "tn_move_his = pd.read_csv('combined_tn_move_his_이동내역.csv',encoding='utf-8',low_memory=False)\n",
    "tn_mvmn_consume_his = pd.read_csv('combined_tn_mvmn_consume_his_이동수단소비내역.csv',encoding='utf-8',low_memory=False)\n",
    "tn_travel = pd.read_csv('combined_tn_travel_여행.csv',encoding='utf-8',low_memory=False)\n",
    "# tn_traveller_master = pd.read_csv('combined_tn_traveller_master_여행객 Master.csv',encoding='utf-8',low_memory=False)\n",
    "tn_visit_area_info = pd.read_csv('combined_tn_visit_area_info_방문지정보.csv',encoding='utf-8',low_memory=False)\n",
    "sgg_code = pd.read_csv('tc_sgg_시군구코드.csv',encoding='utf-8',low_memory=False)\n",
    "poi_data = pd.read_csv('tn_poi_master_POIMaster.csv',encoding='utf-8',low_memory=False)"
   ]
  },
  {
   "cell_type": "code",
   "execution_count": 12,
   "metadata": {},
   "outputs": [
    {
     "data": {
      "text/plain": [
       "Index(['POI_ID', 'POI_NM', 'BRNO', 'SGG_CD', 'ROAD_NM_ADDR', 'LOTNO_ADDR',\n",
       "       'ASORT_LCLASDC', 'ASORT_MLSFCDC', 'ASORT_SDASDC', 'X_COORD', 'Y_COORD',\n",
       "       'ROAD_NM_CD', 'LOTNO_CD'],\n",
       "      dtype='object')"
      ]
     },
     "execution_count": 12,
     "metadata": {},
     "output_type": "execute_result"
    }
   ],
   "source": [
    "poi_data.head(50)\n",
    "poi_data.shape\n",
    "poi_data.columns"
   ]
  },
  {
   "cell_type": "code",
   "execution_count": null,
   "metadata": {},
   "outputs": [],
   "source": [
    "# #중복 TRAVEL_ID제거\n",
    "\n",
    "# tn_activity_consume_his = tn_activity_consume_his.drop_duplicates(subset='TRAVEL_ID')\n",
    "# tn_activity_his = tn_activity_his.drop_duplicates(subset='TRAVEL_ID')\n",
    "# tn_adv_consume_his = tn_adv_consume_his.drop_duplicates(subset='TRAVEL_ID')\n",
    "# tn_companion_info = tn_companion_info.drop_duplicates(subset='TRAVEL_ID')\n",
    "# tn_lodge_consume_his = tn_lodge_consume_his.drop_duplicates(subset='TRAVEL_ID')\n",
    "# tn_move_his = tn_move_his.drop_duplicates(subset='TRAVEL_ID')\n",
    "# # tn_mvmn_consume_his = tn_mvmn_consume_his.drop_duplicates(subset='TRAVEL_ID')\n",
    "# tn_traveller_master = tn_traveller_master.drop_duplicates(subset='TRAVEL_ID')\n",
    "# tn_visit_area_info = tn_visit_area_info.drop_duplicates(subset='TRAVEL_ID')"
   ]
  },
  {
   "cell_type": "code",
   "execution_count": null,
   "metadata": {},
   "outputs": [
    {
     "name": "stdout",
     "output_type": "stream",
     "text": [
      "Warning: 열 VISIT_AREA_ID_activity_his과 VISIT_AREA_ID의 값이 다릅니다. VISIT_AREA_ID_activity_his 열을 보존합니다.\n",
      "Warning: 열 ACTIVITY_TYPE_CD_activity_his과 ACTIVITY_TYPE_CD의 값이 다릅니다. ACTIVITY_TYPE_CD_activity_his 열을 보존합니다.\n",
      "Warning: 열 ACTIVITY_TYPE_SEQ_activity_his과 ACTIVITY_TYPE_SEQ의 값이 다릅니다. ACTIVITY_TYPE_SEQ_activity_his 열을 보존합니다.\n",
      "Warning: 열 PAYMENT_NUM_adv_consume과 PAYMENT_NUM의 값이 다릅니다. PAYMENT_NUM_adv_consume 열을 보존합니다.\n",
      "Warning: 열 BRNO_adv_consume과 BRNO의 값이 다릅니다. BRNO_adv_consume 열을 보존합니다.\n",
      "Warning: 열 STORE_NM_adv_consume과 STORE_NM의 값이 다릅니다. STORE_NM_adv_consume 열을 보존합니다.\n",
      "Warning: 열 ROAD_NM_ADDR_adv_consume과 ROAD_NM_ADDR의 값이 다릅니다. ROAD_NM_ADDR_adv_consume 열을 보존합니다.\n",
      "Warning: 열 LOTNO_ADDR_adv_consume과 LOTNO_ADDR의 값이 다릅니다. LOTNO_ADDR_adv_consume 열을 보존합니다.\n",
      "Warning: 열 ROAD_NM_CD_adv_consume과 ROAD_NM_CD의 값이 다릅니다. ROAD_NM_CD_adv_consume 열을 보존합니다.\n",
      "Warning: 열 LOTNO_CD_adv_consume과 LOTNO_CD의 값이 다릅니다. LOTNO_CD_adv_consume 열을 보존합니다.\n",
      "Warning: 열 PAYMENT_DT_adv_consume과 PAYMENT_DT의 값이 다릅니다. PAYMENT_DT_adv_consume 열을 보존합니다.\n",
      "Warning: 열 PAYMENT_MTHD_SE_adv_consume과 PAYMENT_MTHD_SE의 값이 다릅니다. PAYMENT_MTHD_SE_adv_consume 열을 보존합니다.\n",
      "Warning: 열 PAYMENT_AMT_WON_adv_consume과 PAYMENT_AMT_WON의 값이 다릅니다. PAYMENT_AMT_WON_adv_consume 열을 보존합니다.\n",
      "Warning: 열 PAYMENT_ETC_adv_consume과 PAYMENT_ETC의 값이 다릅니다. PAYMENT_ETC_adv_consume 열을 보존합니다.\n",
      "Warning: 열 SGG_CD_adv_consume과 SGG_CD의 값이 다릅니다. SGG_CD_adv_consume 열을 보존합니다.\n",
      "Warning: 열 PAYMENT_NUM_mvmn_consume과 PAYMENT_NUM의 값이 다릅니다. PAYMENT_NUM_mvmn_consume 열을 보존합니다.\n",
      "Warning: 열 BRNO_mvmn_consume과 BRNO의 값이 다릅니다. BRNO_mvmn_consume 열을 보존합니다.\n",
      "Warning: 열 STORE_NM_mvmn_consume과 STORE_NM의 값이 다릅니다. STORE_NM_mvmn_consume 열을 보존합니다.\n",
      "Warning: 열 PAYMENT_DT_mvmn_consume과 PAYMENT_DT의 값이 다릅니다. PAYMENT_DT_mvmn_consume 열을 보존합니다.\n",
      "Warning: 열 PAYMENT_MTHD_SE_mvmn_consume과 PAYMENT_MTHD_SE의 값이 다릅니다. PAYMENT_MTHD_SE_mvmn_consume 열을 보존합니다.\n",
      "Warning: 열 PAYMENT_AMT_WON_mvmn_consume과 PAYMENT_AMT_WON의 값이 다릅니다. PAYMENT_AMT_WON_mvmn_consume 열을 보존합니다.\n",
      "Warning: 열 PAYMENT_ETC_mvmn_consume과 PAYMENT_ETC의 값이 다릅니다. PAYMENT_ETC_mvmn_consume 열을 보존합니다.\n"
     ]
    },
    {
     "name": "stderr",
     "output_type": "stream",
     "text": [
      "C:\\Users\\user\\AppData\\Local\\Temp\\ipykernel_14756\\549510925.py:56: DtypeWarning: Columns (8,9) have mixed types. Specify dtype option on import or set low_memory=False.\n",
      "  return pd.read_csv(output_file)  # 최종 결과 로드\n"
     ]
    },
    {
     "name": "stdout",
     "output_type": "stream",
     "text": [
      "Warning: 열 PAYMENT_NUM_group2과 PAYMENT_NUM의 값이 다릅니다. PAYMENT_NUM_group2 열을 보존합니다.\n",
      "Warning: 열 BRNO_group2과 BRNO의 값이 다릅니다. BRNO_group2 열을 보존합니다.\n",
      "Warning: 열 STORE_NM_group2과 STORE_NM의 값이 다릅니다. STORE_NM_group2 열을 보존합니다.\n",
      "Warning: 열 ROAD_NM_ADDR_group2과 ROAD_NM_ADDR의 값이 다릅니다. ROAD_NM_ADDR_group2 열을 보존합니다.\n",
      "Warning: 열 LOTNO_ADDR_group2과 LOTNO_ADDR의 값이 다릅니다. LOTNO_ADDR_group2 열을 보존합니다.\n",
      "Warning: 열 ROAD_NM_CD_group2과 ROAD_NM_CD의 값이 다릅니다. ROAD_NM_CD_group2 열을 보존합니다.\n",
      "Warning: 열 LOTNO_CD_group2과 LOTNO_CD의 값이 다릅니다. LOTNO_CD_group2 열을 보존합니다.\n",
      "Warning: 열 PAYMENT_DT_group2과 PAYMENT_DT의 값이 다릅니다. PAYMENT_DT_group2 열을 보존합니다.\n",
      "Warning: 열 PAYMENT_MTHD_SE_group2과 PAYMENT_MTHD_SE의 값이 다릅니다. PAYMENT_MTHD_SE_group2 열을 보존합니다.\n",
      "Warning: 열 PAYMENT_AMT_WON_group2과 PAYMENT_AMT_WON의 값이 다릅니다. PAYMENT_AMT_WON_group2 열을 보존합니다.\n",
      "Warning: 열 PAYMENT_ETC_group2과 PAYMENT_ETC의 값이 다릅니다. PAYMENT_ETC_group2 열을 보존합니다.\n",
      "Warning: 열 VISIT_AREA_ID_group3과 VISIT_AREA_ID의 값이 다릅니다. VISIT_AREA_ID_group3 열을 보존합니다.\n",
      "Warning: 열 ROAD_NM_ADDR_group3과 ROAD_NM_ADDR의 값이 다릅니다. ROAD_NM_ADDR_group3 열을 보존합니다.\n",
      "Warning: 열 LOTNO_ADDR_group3과 LOTNO_ADDR의 값이 다릅니다. LOTNO_ADDR_group3 열을 보존합니다.\n",
      "Warning: 열 ROAD_NM_CD_group3과 ROAD_NM_CD의 값이 다릅니다. ROAD_NM_CD_group3 열을 보존합니다.\n",
      "Warning: 열 LOTNO_CD_group3과 LOTNO_CD의 값이 다릅니다. LOTNO_CD_group3 열을 보존합니다.\n",
      "Warning: 열 LODGING_TYPE_CD_group3과 LODGING_TYPE_CD의 값이 다릅니다. LODGING_TYPE_CD_group3 열을 보존합니다.\n",
      "Warning: 열 SGG_CD_group3과 SGG_CD의 값이 다릅니다. SGG_CD_group3 열을 보존합니다.\n",
      "   TRAVEL_ID  VISIT_AREA_ID  ACTIVITY_TYPE_CD  ACTIVITY_TYPE_SEQ  \\\n",
      "0  a_a004739     2210020002                 3                  0   \n",
      "1  a_a002397     2209170002                 3                  1   \n",
      "2  a_a017904     2211110007                 1                  0   \n",
      "3  a_a018111     2211130004                 1                  0   \n",
      "4  a_a005012     2210120010                 1                  0   \n",
      "\n",
      "   CONSUME_HIS_SEQ  CONSUME_HIS_SNO  PAYMENT_NUM          BRNO       STORE_NM  \\\n",
      "0                0                1            2           NaN        아침고요수목원   \n",
      "1                1                0            1           NaN          에버랜드    \n",
      "2                0                1            2  5.918702e+09           금별맥주   \n",
      "3                0                1            2  3.328101e+09        주식회사필모어   \n",
      "4                0                1            1  6.448101e+09  박가네푸드시스템 주식회사   \n",
      "\n",
      "              ROAD_NM_ADDR               LOTNO_ADDR  ROAD_NM_CD      LOTNO_CD  \\\n",
      "0       경기 가평군 상면 수목원로 432      경기 가평군 상면 행현리 623-3   3216056.0  4.182033e+09   \n",
      "1        에버랜드로 199 삼성물산(주)                      NaN         NaN           NaN   \n",
      "2          서울 마포구 마포대로 110        서울 마포구 공덕동 255-16   2113001.0  1.144010e+09   \n",
      "3  경기 고양시 일산동구 일산로380번길 15  경기 고양시 일산동구 정발산동 1296-6   4379164.0  4.128510e+09   \n",
      "4           서울 종로구 종로32길 7       서울 종로구 종로5가 138-10   4100322.0  1.111016e+09   \n",
      "\n",
      "                PAYMENT_DT  PAYMENT_MTHD_SE  PAYMENT_AMT_WON  \\\n",
      "0  2022-10-02 00:00:00.000              1.0          22000.0   \n",
      "1                      NaN              4.0          33000.0   \n",
      "2  2022-11-11 22:32:00.000              1.0          31400.0   \n",
      "3  2022-11-13 14:10:00.000              1.0          48000.0   \n",
      "4  2022-10-12 16:26:00.000              1.0          10000.0   \n",
      "\n",
      "                   PAYMENT_ETC        SGG_CD  \n",
      "0                           대인           NaN  \n",
      "1                          NaN  4.146125e+09  \n",
      "2  봄베이토닉하이볼;호세쿠엘보;바지락버터술찜;파스타면           NaN  \n",
      "3     4.LASAGNA;7.GNOCCHI;COKE           NaN  \n",
      "4                          NaN           NaN  \n",
      "(86632, 18)\n"
     ]
    }
   ],
   "source": [
    "import pandas as pd\n",
    "\n",
    "def merge_dataframes_with_deduplication(dataframes, dataframe_names, output_file, chunk_size=None):\n",
    "    \"\"\"\n",
    "    여러 데이터프레임을 TRAVEL_ID를 기준으로 outer join하며,\n",
    "    중복된 열의 내용을 비교 후, 모든 값이 동일할 때만 중복 열을 제거합니다.\n",
    "    결과는 중간 파일로 저장하여 메모리 사용량을 줄입니다.\n",
    "    \"\"\"\n",
    "    if len(dataframes) != len(dataframe_names):\n",
    "        raise ValueError(\"데이터프레임 리스트와 이름 리스트의 길이가 같아야 합니다.\")\n",
    "\n",
    "    def process_chunk(result, df, suffix):\n",
    "        # Outer join 수행\n",
    "        result = pd.merge(result, df, on='TRAVEL_ID', how='outer', suffixes=('', suffix))\n",
    "        \n",
    "        # 중복 열 처리\n",
    "        duplicate_columns = [col for col in result.columns if suffix in col]\n",
    "        for col in duplicate_columns:\n",
    "            original_col = col.replace(suffix, '')\n",
    "            if original_col in result.columns:\n",
    "                # 중복 열과 원본 열의 값이 모두 동일한 경우 중복 열 제거\n",
    "                if result[original_col].equals(result[col]):\n",
    "                    result.drop(columns=[col], inplace=True)\n",
    "                else:\n",
    "                    print(f\"Warning: 열 {col}과 {original_col}의 값이 다릅니다. {col} 열을 보존합니다.\")\n",
    "            else:\n",
    "                # 원본 열이 없으면 중복 열 이름에서 suffix 제거\n",
    "                result.rename(columns={col: original_col}, inplace=True)\n",
    "        \n",
    "        return result\n",
    "\n",
    "    # 초기 데이터프레임 설정\n",
    "    result = dataframes[0]\n",
    "\n",
    "    # 중간 저장 파일 초기화\n",
    "    result.to_csv(output_file, index=False, encoding=\"utf-8\", mode=\"w\")\n",
    "\n",
    "    for i, df in enumerate(dataframes[1:], start=1):\n",
    "        suffix = f\"_{dataframe_names[i]}\"\n",
    "        temp_file = f\"temp_{i}.csv\"\n",
    "\n",
    "        if chunk_size is None:\n",
    "            # 전체 병합\n",
    "            result = process_chunk(result, df, suffix)\n",
    "        else:\n",
    "            # 청크 단위 병합\n",
    "            if isinstance(df, str):  # 데이터프레임 대신 파일 경로일 경우\n",
    "                for chunk in pd.read_csv(df, chunksize=chunk_size):\n",
    "                    result = pd.read_csv(output_file)  # 기존 결과 읽기\n",
    "                    result = process_chunk(result, chunk, suffix)\n",
    "                    # 중간 결과 저장\n",
    "                    result.to_csv(output_file, index=False, encoding=\"utf-8\", mode=\"w\")\n",
    "            else:\n",
    "                result = process_chunk(result, df, suffix)\n",
    "\n",
    "    return pd.read_csv(output_file)  # 최종 결과 로드\n",
    "\n",
    "# 데이터를 나눠 그룹으로 병합\n",
    "group1 = [tn_activity_consume_his, tn_activity_his, tn_adv_consume_his]\n",
    "group2 = [tn_lodge_consume_his, tn_move_his, tn_mvmn_consume_his]\n",
    "group3 = [tn_visit_area_info, tn_travel]\n",
    "\n",
    "chunk_size = 10_000  # 청크 크기를 줄임\n",
    "\n",
    "# 그룹 병합 결과 저장 경로 설정\n",
    "output_group1 = \"merged_group1.csv\"\n",
    "output_group2 = \"merged_group2.csv\"\n",
    "output_group3 = \"merged_group3.csv\"\n",
    "\n",
    "merged_group1 = merge_dataframes_with_deduplication(group1, [\"activity_consume\", \"activity_his\", \"adv_consume\"], output_group1, chunk_size=chunk_size)\n",
    "merged_group2 = merge_dataframes_with_deduplication(group2, [\"lodge_consume\", \"move_his\", \"mvmn_consume\"], output_group2, chunk_size=chunk_size)\n",
    "merged_group3 = merge_dataframes_with_deduplication(group3, [\"visit_area_info\", \"travel\"], output_group3, chunk_size=chunk_size)\n",
    "\n",
    "# 그룹 간 병합\n",
    "final_output = \"final_merged.csv\"\n",
    "final_merged = merge_dataframes_with_deduplication(\n",
    "    [merged_group1, merged_group2, merged_group3],\n",
    "    [\"group1\", \"group2\", \"group3\"],\n",
    "    final_output,\n",
    "    chunk_size=chunk_size\n",
    ")\n",
    "\n",
    "# 최종 결과 확인\n",
    "print(final_merged.head())\n",
    "print(final_merged.shape)\n"
   ]
  },
  {
   "cell_type": "code",
   "execution_count": 13,
   "metadata": {},
   "outputs": [
    {
     "name": "stdout",
     "output_type": "stream",
     "text": [
      "Index(['TRAVEL_ID', 'VISIT_AREA_ID', 'ACTIVITY_TYPE_CD', 'ACTIVITY_TYPE_SEQ',\n",
      "       'CONSUME_HIS_SEQ', 'CONSUME_HIS_SNO', 'PAYMENT_NUM', 'BRNO', 'STORE_NM',\n",
      "       'ROAD_NM_ADDR', 'LOTNO_ADDR', 'ROAD_NM_CD', 'LOTNO_CD', 'PAYMENT_DT',\n",
      "       'PAYMENT_MTHD_SE', 'PAYMENT_AMT_WON', 'PAYMENT_ETC', 'SGG_CD'],\n",
      "      dtype='object')\n"
     ]
    }
   ],
   "source": [
    "print(final_merged.columns)"
   ]
  },
  {
   "cell_type": "code",
   "execution_count": 12,
   "metadata": {},
   "outputs": [
    {
     "name": "stderr",
     "output_type": "stream",
     "text": [
      "C:\\Users\\user\\AppData\\Local\\Temp\\ipykernel_15452\\2561976304.py:2: DtypeWarning: Columns (3,4,12) have mixed types. Specify dtype option on import or set low_memory=False.\n",
      "  POI_data = pd.read_csv('tn_poi_master_POIMaster.csv', encoding='utf-8')\n"
     ]
    },
    {
     "name": "stdout",
     "output_type": "stream",
     "text": [
      "결측치 비율:\n",
      " TRAVEL_ID            98.849432\n",
      "VISIT_AREA_ID        98.849432\n",
      "ACTIVITY_TYPE_CD     98.849432\n",
      "ACTIVITY_TYPE_SEQ    98.849432\n",
      "CONSUME_HIS_SEQ      98.849432\n",
      "CONSUME_HIS_SNO      98.849432\n",
      "PAYMENT_NUM          98.849432\n",
      "BRNO                 99.115745\n",
      "STORE_NM             98.859937\n",
      "ROAD_NM_ADDR         98.977249\n",
      "LOTNO_ADDR           99.293021\n",
      "ROAD_NM_CD           99.071983\n",
      "LOTNO_CD             99.071983\n",
      "PAYMENT_DT           99.036616\n",
      "PAYMENT_MTHD_SE      98.854983\n",
      "PAYMENT_AMT_WON      98.849804\n",
      "PAYMENT_ETC          99.294269\n",
      "SGG_CD                0.000000\n",
      "POI_ID                1.150568\n",
      "POI_NM                1.150634\n",
      "BRNO_POI              1.150568\n",
      "ROAD_NM_ADDR_POI     15.394293\n",
      "LOTNO_ADDR_POI        1.150568\n",
      "ASORT_LCLASDC        87.585680\n",
      "ASORT_MLSFCDC        87.585680\n",
      "ASORT_SDASDC         87.585680\n",
      "X_COORD               1.150568\n",
      "Y_COORD               1.150568\n",
      "ROAD_NM_CD_POI        1.150568\n",
      "LOTNO_CD_POI          1.150568\n",
      "dtype: float64\n",
      "SGG_CD 기준으로 병합된 데이터 저장 완료\n"
     ]
    }
   ],
   "source": [
    "final_merged = pd.read_csv('final_merged.csv', encoding='utf-8')\n",
    "POI_data = pd.read_csv('tn_poi_master_POIMaster.csv', encoding='utf-8')\n",
    "\n",
    "final_merged['SGG_CD'] = final_merged['SGG_CD'].astype(str)\n",
    "POI_data['SGG_CD'] = POI_data['SGG_CD'].astype(str)\n",
    "\n",
    "# 'SGG_CD'를 기준 병합\n",
    "merged_data = pd.merge(final_merged, POI_data, on='SGG_CD', how='outer', suffixes=('', '_POI'))\n",
    "\n",
    "# 결측치 확인\n",
    "missing_summary = merged_data.isnull().sum() / len(merged_data) * 100\n",
    "print(\"결측치 비율:\\n\", missing_summary)\n",
    "\n",
    "# 병합된 데이터 저장\n",
    "merged_data.to_csv('merged_data_sgg_cd.csv', index=False, encoding='utf-8')\n",
    "print(\"SGG_CD 기준으로 병합된 데이터 저장 완료\")"
   ]
  },
  {
   "cell_type": "code",
   "execution_count": 15,
   "metadata": {},
   "outputs": [
    {
     "name": "stdout",
     "output_type": "stream",
     "text": [
      "Unique values and counts in SGG_CD:\n",
      "SGG_CD\n",
      "                573029\n",
      "nan              73233\n",
      "1168010100       24026\n",
      "1165010800       23324\n",
      "1162010200       23178\n",
      "                 ...  \n",
      "4148010700.0         1\n",
      "4671037000           1\n",
      "4777025023.0         1\n",
      "5013025930.0         1\n",
      "3014011700.0         1\n",
      "Name: count, Length: 21279, dtype: int64\n"
     ]
    }
   ],
   "source": [
    "# 고유값 및 개수 확인\n",
    "sgg_cd_values = merged_data['SGG_CD'].value_counts()\n",
    "\n",
    "# 고유값 리스트와 개수 출력\n",
    "print(\"Unique values and counts in SGG_CD:\")\n",
    "print(sgg_cd_values)\n"
   ]
  },
  {
   "cell_type": "code",
   "execution_count": null,
   "metadata": {},
   "outputs": [
    {
     "name": "stdout",
     "output_type": "stream",
     "text": [
      "      SGG_CD1  SIDO_NM\n",
      "0          11    서울특별시\n",
      "493        26    부산광역시\n",
      "753        27    대구광역시\n",
      "1025       28    인천광역시\n",
      "1201       29    광주광역시\n",
      "1409       30    대전광역시\n",
      "1592       31    울산광역시\n",
      "1744       36  세종특별자치시\n",
      "1779       41      경기도\n",
      "2925       42      강원도\n",
      "3540       43     충청북도\n",
      "4014       44     충청남도\n",
      "4601       45     전라북도\n",
      "5194       46     전라남도\n",
      "6089       47     경상북도\n",
      "7117       48     경상남도\n",
      "7902       50  제주특별자치도\n"
     ]
    }
   ],
   "source": [
    "import pandas as pd\n",
    "\n",
    "# 데이터 로드\n",
    "tc_sgg_code = pd.read_csv(\"./tc_sgg_시군구코드.csv\")\n",
    "\n",
    "# SGG_CD1과 SIDO_NM의 매핑 확인\n",
    "sgg_sido_mapping = tc_sgg_code[['SGG_CD1', 'SIDO_NM']].drop_duplicates()\n",
    "\n",
    "# 결과 출력\n",
    "print(sgg_sido_mapping)\n",
    "\n"
   ]
  },
  {
   "cell_type": "code",
   "execution_count": 27,
   "metadata": {},
   "outputs": [
    {
     "name": "stderr",
     "output_type": "stream",
     "text": [
      "C:\\Users\\user\\AppData\\Local\\Temp\\ipykernel_15452\\378347892.py:5: DtypeWarning: Columns (0,8,9,10,13,16,17,18,19,20,21,22,28,29) have mixed types. Specify dtype option on import or set low_memory=False.\n",
      "  merged_data = pd.read_csv(\"merged_data_sgg_cd.csv\", encoding=\"utf-8\")\n"
     ]
    },
    {
     "name": "stdout",
     "output_type": "stream",
     "text": [
      "   SGG_CD region\n",
      "0       0    NaN\n",
      "1       0    NaN\n",
      "2       0    NaN\n",
      "3       0    NaN\n",
      "4       0    NaN\n"
     ]
    }
   ],
   "source": [
    "import pandas as pd\n",
    "\n",
    "# 데이터 로드\n",
    "tc_sgg_code = pd.read_csv(\"./tc_sgg_시군구코드.csv\")\n",
    "merged_data = pd.read_csv(\"merged_data_sgg_cd.csv\", encoding=\"utf-8\")\n",
    "\n",
    "# SGG_CD 열의 값을 문자열로 변환 후 불필요한 공백 제거\n",
    "merged_data['SGG_CD'] = merged_data['SGG_CD'].astype(str).str.strip()\n",
    "\n",
    "# 공백 또는 'nan'을 0으로 대체\n",
    "merged_data['SGG_CD'] = merged_data['SGG_CD'].replace({'': '0', 'nan': '0'}).fillna('0')\n",
    "\n",
    "# 소수점 제거 후 정수형 변환\n",
    "merged_data['SGG_CD'] = merged_data['SGG_CD'].str.split('.').str[0].astype(int)\n",
    "\n",
    "# 지역 매핑 딕셔너리 생성\n",
    "region_mapping = tc_sgg_code[['SGG_CD1', 'SIDO_NM']].drop_duplicates().set_index('SGG_CD1')['SIDO_NM'].to_dict()\n",
    "\n",
    "# SGG_CD에서 앞 2자리 추출하여 지역 매핑\n",
    "merged_data['region'] = merged_data['SGG_CD'].astype(str).str[:2].astype(int).map(region_mapping)\n",
    "\n",
    "# 결과 확인\n",
    "print(merged_data[['SGG_CD', 'region']].head())"
   ]
  },
  {
   "cell_type": "code",
   "execution_count": 2,
   "metadata": {},
   "outputs": [
    {
     "ename": "NameError",
     "evalue": "name 'merged_data' is not defined",
     "output_type": "error",
     "traceback": [
      "\u001b[1;31m---------------------------------------------------------------------------\u001b[0m",
      "\u001b[1;31mNameError\u001b[0m                                 Traceback (most recent call last)",
      "Cell \u001b[1;32mIn[2], line 2\u001b[0m\n\u001b[0;32m      1\u001b[0m \u001b[38;5;66;03m# 각 지역별 데이터 건수 확인\u001b[39;00m\n\u001b[1;32m----> 2\u001b[0m region_distribution \u001b[38;5;241m=\u001b[39m \u001b[43mmerged_data\u001b[49m[\u001b[38;5;124m'\u001b[39m\u001b[38;5;124mregion\u001b[39m\u001b[38;5;124m'\u001b[39m]\u001b[38;5;241m.\u001b[39mvalue_counts()\n\u001b[0;32m      4\u001b[0m \u001b[38;5;66;03m# 결과 출력\u001b[39;00m\n\u001b[0;32m      5\u001b[0m \u001b[38;5;28mprint\u001b[39m(region_distribution)\n",
      "\u001b[1;31mNameError\u001b[0m: name 'merged_data' is not defined"
     ]
    }
   ],
   "source": [
    "# 각 지역별 데이터 건수 확인\n",
    "region_distribution = merged_data['region'].value_counts()\n",
    "\n",
    "# 결과 출력\n",
    "print(region_distribution)\n",
    "\n",
    "merged_data.to_csv(\"mapped_merged_data.csv\", index=False, encoding=\"utf-8\")\n",
    "\n"
   ]
  },
  {
   "cell_type": "code",
   "execution_count": 3,
   "metadata": {},
   "outputs": [
    {
     "name": "stderr",
     "output_type": "stream",
     "text": [
      "C:\\Users\\user\\AppData\\Local\\Temp\\ipykernel_26980\\2738140736.py:6: DtypeWarning: Columns (0,8,9,10,13,16,18,19,20,21,22,28,29,30) have mixed types. Specify dtype option on import or set low_memory=False.\n",
      "  merged_data = pd.read_csv(\"./mapped_merged_data.csv\")\n"
     ]
    },
    {
     "name": "stdout",
     "output_type": "stream",
     "text": [
      "TRAVEL_ID              86632\n",
      "VISIT_AREA_ID          86632\n",
      "ACTIVITY_TYPE_CD       86632\n",
      "ACTIVITY_TYPE_SEQ      86632\n",
      "CONSUME_HIS_SEQ        86632\n",
      "CONSUME_HIS_SNO        86632\n",
      "PAYMENT_NUM            86632\n",
      "BRNO                   66580\n",
      "STORE_NM               85841\n",
      "ROAD_NM_ADDR           77008\n",
      "LOTNO_ADDR             53232\n",
      "ROAD_NM_CD             69875\n",
      "LOTNO_CD               69875\n",
      "PAYMENT_DT             72538\n",
      "PAYMENT_MTHD_SE        86214\n",
      "PAYMENT_AMT_WON        86604\n",
      "PAYMENT_ETC            53138\n",
      "SGG_CD               7529498\n",
      "POI_ID               7442866\n",
      "POI_NM               7442861\n",
      "BRNO_POI             7442866\n",
      "ROAD_NM_ADDR_POI     6370385\n",
      "LOTNO_ADDR_POI       7442866\n",
      "ASORT_LCLASDC         934736\n",
      "ASORT_MLSFCDC         934736\n",
      "ASORT_SDASDC          934736\n",
      "X_COORD              7442866\n",
      "Y_COORD              7442866\n",
      "ROAD_NM_CD_POI       7442866\n",
      "LOTNO_CD_POI         7442866\n",
      "region               6883236\n",
      "dtype: int64\n"
     ]
    }
   ],
   "source": [
    "from matplotlib import rc\n",
    "\n",
    "import matplotlib.pyplot as plt\n",
    "import pandas as pd\n",
    "\n",
    "merged_data = pd.read_csv(\"./mapped_merged_data.csv\")\n",
    "\n",
    "\n",
    "# 각 열의 데이터 개수 확인\n",
    "column_counts = merged_data.count()\n",
    "print(column_counts)"
   ]
  },
  {
   "cell_type": "code",
   "execution_count": null,
   "metadata": {},
   "outputs": [],
   "source": []
  }
 ],
 "metadata": {
  "kernelspec": {
   "display_name": "minseong",
   "language": "python",
   "name": "python3"
  },
  "language_info": {
   "codemirror_mode": {
    "name": "ipython",
    "version": 3
   },
   "file_extension": ".py",
   "mimetype": "text/x-python",
   "name": "python",
   "nbconvert_exporter": "python",
   "pygments_lexer": "ipython3",
   "version": "3.10.16"
  }
 },
 "nbformat": 4,
 "nbformat_minor": 2
}
